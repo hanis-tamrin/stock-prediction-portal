{
 "cells": [
  {
   "cell_type": "code",
   "execution_count": 1,
   "id": "adf337f7-b5b2-45eb-8db0-efad7990a168",
   "metadata": {},
   "outputs": [],
   "source": [
    "import numpy as np"
   ]
  },
  {
   "cell_type": "code",
   "execution_count": 2,
   "id": "6c10e2a2-e1f1-4b7a-8e67-36d7cf93922d",
   "metadata": {},
   "outputs": [
    {
     "data": {
      "text/plain": [
       "'2.3.1'"
      ]
     },
     "execution_count": 2,
     "metadata": {},
     "output_type": "execute_result"
    }
   ],
   "source": [
    "np.__version__"
   ]
  },
  {
   "cell_type": "markdown",
   "id": "01c3f5c8-d1bc-4d59-a22a-17aba4019890",
   "metadata": {},
   "source": [
    "## Create & Read"
   ]
  },
  {
   "cell_type": "markdown",
   "id": "aa2e4d43-5c57-4ce4-8af9-6dcacec21e7e",
   "metadata": {},
   "source": [
    "#### 1D Array"
   ]
  },
  {
   "cell_type": "code",
   "execution_count": 3,
   "id": "58452a38-2390-433b-9b8d-c53542e2c6c0",
   "metadata": {},
   "outputs": [
    {
     "data": {
      "text/plain": [
       "array([1, 2, 3, 4, 5])"
      ]
     },
     "execution_count": 3,
     "metadata": {},
     "output_type": "execute_result"
    }
   ],
   "source": [
    "arr1 = np.array([1,2,3,4,5])\n",
    "arr1"
   ]
  },
  {
   "cell_type": "code",
   "execution_count": 4,
   "id": "ed902a59-cdeb-4ff4-84b7-a7cc08345fba",
   "metadata": {},
   "outputs": [
    {
     "data": {
      "text/plain": [
       "numpy.ndarray"
      ]
     },
     "execution_count": 4,
     "metadata": {},
     "output_type": "execute_result"
    }
   ],
   "source": [
    "type(arr1)"
   ]
  },
  {
   "cell_type": "code",
   "execution_count": 5,
   "id": "499b468f-26c3-4857-8077-cca88fd308e4",
   "metadata": {},
   "outputs": [
    {
     "data": {
      "text/plain": [
       "(5,)"
      ]
     },
     "execution_count": 5,
     "metadata": {},
     "output_type": "execute_result"
    }
   ],
   "source": [
    "arr1.shape"
   ]
  },
  {
   "cell_type": "code",
   "execution_count": 6,
   "id": "d30ba836-afa2-42b1-85c8-581875850eb4",
   "metadata": {},
   "outputs": [
    {
     "data": {
      "text/plain": [
       "dtype('int64')"
      ]
     },
     "execution_count": 6,
     "metadata": {},
     "output_type": "execute_result"
    }
   ],
   "source": [
    "arr1.dtype"
   ]
  },
  {
   "cell_type": "code",
   "execution_count": 7,
   "id": "1e398c68-6f8d-4f41-8adb-5f51fcd516ba",
   "metadata": {},
   "outputs": [
    {
     "data": {
      "text/plain": [
       "1"
      ]
     },
     "execution_count": 7,
     "metadata": {},
     "output_type": "execute_result"
    }
   ],
   "source": [
    "arr1.ndim"
   ]
  },
  {
   "cell_type": "code",
   "execution_count": 8,
   "id": "7b5a56dc-0fa7-4817-8c54-525f7d02cfe9",
   "metadata": {},
   "outputs": [
    {
     "data": {
      "text/plain": [
       "5"
      ]
     },
     "execution_count": 8,
     "metadata": {},
     "output_type": "execute_result"
    }
   ],
   "source": [
    "arr1.size"
   ]
  },
  {
   "cell_type": "markdown",
   "id": "4baf6dfb-538d-4640-8b0c-7bb56ef51c17",
   "metadata": {},
   "source": [
    "#### 2D Array"
   ]
  },
  {
   "cell_type": "code",
   "execution_count": 9,
   "id": "85d8287e-d187-4201-a233-706ac782322d",
   "metadata": {},
   "outputs": [
    {
     "data": {
      "text/plain": [
       "array([[1, 4, 5],\n",
       "       [6, 7, 4]])"
      ]
     },
     "execution_count": 9,
     "metadata": {},
     "output_type": "execute_result"
    }
   ],
   "source": [
    "arr2 = np.array([[1, 4, 5], [6, 7, 4]])\n",
    "arr2"
   ]
  },
  {
   "cell_type": "code",
   "execution_count": 10,
   "id": "43cb9483-6f73-4f04-8c9e-cdf043f1c423",
   "metadata": {},
   "outputs": [
    {
     "data": {
      "text/plain": [
       "2"
      ]
     },
     "execution_count": 10,
     "metadata": {},
     "output_type": "execute_result"
    }
   ],
   "source": [
    "arr2.ndim"
   ]
  },
  {
   "cell_type": "code",
   "execution_count": 12,
   "id": "882c147b-c684-415a-8c50-8909b653fb3a",
   "metadata": {},
   "outputs": [
    {
     "data": {
      "text/plain": [
       "(2, 3)"
      ]
     },
     "execution_count": 12,
     "metadata": {},
     "output_type": "execute_result"
    }
   ],
   "source": [
    "arr2.shape # (row, column)"
   ]
  },
  {
   "cell_type": "code",
   "execution_count": 13,
   "id": "e9a9bbc2-95bb-4035-a608-3b0bf7066d20",
   "metadata": {},
   "outputs": [
    {
     "data": {
      "text/plain": [
       "dtype('int64')"
      ]
     },
     "execution_count": 13,
     "metadata": {},
     "output_type": "execute_result"
    }
   ],
   "source": [
    "arr2.dtype"
   ]
  },
  {
   "cell_type": "code",
   "execution_count": 14,
   "id": "46acc408-23a7-4763-99f1-16a8b39514ad",
   "metadata": {},
   "outputs": [
    {
     "data": {
      "text/plain": [
       "6"
      ]
     },
     "execution_count": 14,
     "metadata": {},
     "output_type": "execute_result"
    }
   ],
   "source": [
    "arr2.size"
   ]
  },
  {
   "cell_type": "markdown",
   "id": "eba3ceca-d6ad-44a0-8b5d-86e4c96cbce0",
   "metadata": {},
   "source": [
    "#### 3D Array"
   ]
  },
  {
   "cell_type": "code",
   "execution_count": 20,
   "id": "c0f05c35-13dd-4a31-b355-9a9631b9858a",
   "metadata": {},
   "outputs": [],
   "source": [
    "arr3 = np.array([[[1, 4, 5], [6, 7, 4]], [[3, 5, 4], [5, 8, 7]], [[3, 5, 4], [5, 8, 7]]])"
   ]
  },
  {
   "cell_type": "code",
   "execution_count": 21,
   "id": "21e0e091-d48f-4e76-884c-3dd6a3d1848b",
   "metadata": {},
   "outputs": [
    {
     "data": {
      "text/plain": [
       "array([[[1, 4, 5],\n",
       "        [6, 7, 4]],\n",
       "\n",
       "       [[3, 5, 4],\n",
       "        [5, 8, 7]],\n",
       "\n",
       "       [[3, 5, 4],\n",
       "        [5, 8, 7]]])"
      ]
     },
     "execution_count": 21,
     "metadata": {},
     "output_type": "execute_result"
    }
   ],
   "source": [
    "arr3"
   ]
  },
  {
   "cell_type": "code",
   "execution_count": 22,
   "id": "03e36025-9d37-4607-a2fc-8445592a1371",
   "metadata": {},
   "outputs": [
    {
     "data": {
      "text/plain": [
       "3"
      ]
     },
     "execution_count": 22,
     "metadata": {},
     "output_type": "execute_result"
    }
   ],
   "source": [
    "arr3.ndim"
   ]
  },
  {
   "cell_type": "code",
   "execution_count": 23,
   "id": "71fa3038-31f7-41a3-97b2-a2ab68c67fd9",
   "metadata": {},
   "outputs": [
    {
     "data": {
      "text/plain": [
       "(3, 2, 3)"
      ]
     },
     "execution_count": 23,
     "metadata": {},
     "output_type": "execute_result"
    }
   ],
   "source": [
    "arr3.shape # (number of layer, 2 row for each layer, 3 column for each layer)"
   ]
  },
  {
   "cell_type": "code",
   "execution_count": 24,
   "id": "d5a16b86-6026-43ea-83b2-88128c35df27",
   "metadata": {},
   "outputs": [
    {
     "data": {
      "text/plain": [
       "18"
      ]
     },
     "execution_count": 24,
     "metadata": {},
     "output_type": "execute_result"
    }
   ],
   "source": [
    "arr3.size"
   ]
  },
  {
   "cell_type": "markdown",
   "id": "848eb564-fe7e-40f4-a882-9f609932236a",
   "metadata": {},
   "source": [
    "## Create random array"
   ]
  },
  {
   "cell_type": "code",
   "execution_count": 25,
   "id": "c20a0945-4811-431f-a0d4-6b0dfee82759",
   "metadata": {},
   "outputs": [
    {
     "data": {
      "text/plain": [
       "array([[[0.69678412, 0.98287336, 0.07983064],\n",
       "        [0.50591535, 0.2029241 , 0.3960658 ]],\n",
       "\n",
       "       [[0.25342235, 0.7086035 , 0.73095155],\n",
       "        [0.64618832, 0.52947044, 0.70645101]],\n",
       "\n",
       "       [[0.67252643, 0.78643974, 0.07820759],\n",
       "        [0.6678366 , 0.94360978, 0.55209619]]])"
      ]
     },
     "execution_count": 25,
     "metadata": {},
     "output_type": "execute_result"
    }
   ],
   "source": [
    "randomArr = np.random.rand(3, 2, 3)\n",
    "randomArr"
   ]
  },
  {
   "cell_type": "code",
   "execution_count": 26,
   "id": "c85eb774-8479-4d0c-b941-ade2eaab21af",
   "metadata": {},
   "outputs": [
    {
     "data": {
      "text/plain": [
       "dtype('float64')"
      ]
     },
     "execution_count": 26,
     "metadata": {},
     "output_type": "execute_result"
    }
   ],
   "source": [
    "randomArr.dtype"
   ]
  },
  {
   "cell_type": "code",
   "execution_count": 27,
   "id": "7f431cc5-ecfe-40ef-9038-8b083499be3f",
   "metadata": {},
   "outputs": [
    {
     "data": {
      "text/plain": [
       "array([[[0., 0., 0.],\n",
       "        [0., 0., 0.]],\n",
       "\n",
       "       [[0., 0., 0.],\n",
       "        [0., 0., 0.]],\n",
       "\n",
       "       [[0., 0., 0.],\n",
       "        [0., 0., 0.]]])"
      ]
     },
     "execution_count": 27,
     "metadata": {},
     "output_type": "execute_result"
    }
   ],
   "source": [
    "zeroes = np.zeros((3,2,3))\n",
    "zeroes"
   ]
  },
  {
   "cell_type": "code",
   "execution_count": 28,
   "id": "7d9ac6fc-5560-4456-96f5-4f2b460d6b93",
   "metadata": {},
   "outputs": [
    {
     "data": {
      "text/plain": [
       "3"
      ]
     },
     "execution_count": 28,
     "metadata": {},
     "output_type": "execute_result"
    }
   ],
   "source": [
    "zeroes.ndim"
   ]
  },
  {
   "cell_type": "code",
   "execution_count": 29,
   "id": "18f866cd-aa8b-4c95-8941-317182366cca",
   "metadata": {},
   "outputs": [
    {
     "data": {
      "text/plain": [
       "array([[[8, 8, 8],\n",
       "        [8, 8, 8]],\n",
       "\n",
       "       [[8, 8, 8],\n",
       "        [8, 8, 8]],\n",
       "\n",
       "       [[8, 8, 8],\n",
       "        [8, 8, 8]]])"
      ]
     },
     "execution_count": 29,
     "metadata": {},
     "output_type": "execute_result"
    }
   ],
   "source": [
    "full = np.full((3, 2, 3), 8)\n",
    "full"
   ]
  },
  {
   "cell_type": "code",
   "execution_count": 30,
   "id": "3c546117-56c7-47ca-b8a1-da17633df2f7",
   "metadata": {},
   "outputs": [
    {
     "data": {
      "text/plain": [
       "array([[[1., 1., 1.],\n",
       "        [1., 1., 1.]],\n",
       "\n",
       "       [[1., 1., 1.],\n",
       "        [1., 1., 1.]],\n",
       "\n",
       "       [[1., 1., 1.],\n",
       "        [1., 1., 1.]]])"
      ]
     },
     "execution_count": 30,
     "metadata": {},
     "output_type": "execute_result"
    }
   ],
   "source": [
    "ones = np.ones((3,2,3))\n",
    "ones"
   ]
  },
  {
   "cell_type": "code",
   "execution_count": 31,
   "id": "17d4cec4-331d-4e28-ba36-581abc5383c6",
   "metadata": {},
   "outputs": [
    {
     "data": {
      "text/plain": [
       "array([[1, 4, 5],\n",
       "       [6, 7, 4]])"
      ]
     },
     "execution_count": 31,
     "metadata": {},
     "output_type": "execute_result"
    }
   ],
   "source": [
    "arr3[0]"
   ]
  },
  {
   "cell_type": "code",
   "execution_count": 32,
   "id": "6567dcc3-791c-44e7-985d-97fc6a458e3a",
   "metadata": {},
   "outputs": [
    {
     "data": {
      "text/plain": [
       "array([1, 4, 5])"
      ]
     },
     "execution_count": 32,
     "metadata": {},
     "output_type": "execute_result"
    }
   ],
   "source": [
    "arr3[0][0]"
   ]
  },
  {
   "cell_type": "code",
   "execution_count": 34,
   "id": "a323ff3e-6509-4b13-84ed-d6135cf55a28",
   "metadata": {},
   "outputs": [
    {
     "data": {
      "text/plain": [
       "np.int64(5)"
      ]
     },
     "execution_count": 34,
     "metadata": {},
     "output_type": "execute_result"
    }
   ],
   "source": [
    "arr3[0][0][2]"
   ]
  },
  {
   "cell_type": "code",
   "execution_count": 35,
   "id": "d1ad96ac-52ce-480b-b144-fe0b4e663cb3",
   "metadata": {},
   "outputs": [
    {
     "data": {
      "text/plain": [
       "array([[[1, 4, 5],\n",
       "        [6, 7, 4]],\n",
       "\n",
       "       [[3, 5, 4],\n",
       "        [5, 8, 7]]])"
      ]
     },
     "execution_count": 35,
     "metadata": {},
     "output_type": "execute_result"
    }
   ],
   "source": [
    "arr3[0:2]"
   ]
  },
  {
   "cell_type": "code",
   "execution_count": 36,
   "id": "38f79a32-5f10-478a-a752-4527750e41f1",
   "metadata": {},
   "outputs": [
    {
     "data": {
      "text/plain": [
       "array([[3, 5, 4],\n",
       "       [5, 8, 7]])"
      ]
     },
     "execution_count": 36,
     "metadata": {},
     "output_type": "execute_result"
    }
   ],
   "source": [
    "arr3[-1]"
   ]
  },
  {
   "cell_type": "code",
   "execution_count": 38,
   "id": "6a1839f1-78f5-4723-b0f8-8ed698ea9246",
   "metadata": {},
   "outputs": [
    {
     "data": {
      "text/plain": [
       "np.int64(5)"
      ]
     },
     "execution_count": 38,
     "metadata": {},
     "output_type": "execute_result"
    }
   ],
   "source": [
    "arr3[1][0][1]"
   ]
  },
  {
   "cell_type": "code",
   "execution_count": 39,
   "id": "274f576f-0723-40e9-abc3-7abe707ebe0a",
   "metadata": {},
   "outputs": [
    {
     "data": {
      "text/plain": [
       "np.int64(5)"
      ]
     },
     "execution_count": 39,
     "metadata": {},
     "output_type": "execute_result"
    }
   ],
   "source": [
    "arr3[1,0,1]"
   ]
  },
  {
   "cell_type": "markdown",
   "id": "cd6076b9-fe74-4a8c-8765-c41f8306f9ff",
   "metadata": {},
   "source": [
    "## Update & Delete"
   ]
  },
  {
   "cell_type": "code",
   "execution_count": 40,
   "id": "41465f3e-cd7c-47ae-b805-7b4650539ac9",
   "metadata": {},
   "outputs": [],
   "source": [
    "a1 = np.random.rand(2,3,2)\n",
    "a2 = np.random.rand(2,3,2)"
   ]
  },
  {
   "cell_type": "code",
   "execution_count": 41,
   "id": "d49263f0-1a98-4d09-b2d0-ca88cdda5c25",
   "metadata": {},
   "outputs": [
    {
     "data": {
      "text/plain": [
       "array([[[0.76891146, 0.21634236],\n",
       "        [0.73145533, 0.66776055],\n",
       "        [0.07588717, 0.33099834]],\n",
       "\n",
       "       [[0.40671445, 0.18518037],\n",
       "        [0.9764628 , 0.31475044],\n",
       "        [0.05366157, 0.22737451]]])"
      ]
     },
     "execution_count": 41,
     "metadata": {},
     "output_type": "execute_result"
    }
   ],
   "source": [
    "a1"
   ]
  },
  {
   "cell_type": "code",
   "execution_count": 42,
   "id": "9ebe3e4b-5a3b-47e4-9ef2-a9b82bb1017b",
   "metadata": {},
   "outputs": [
    {
     "data": {
      "text/plain": [
       "array([[[0.37170866, 0.98472954],\n",
       "        [0.18363894, 0.87969179],\n",
       "        [0.10979974, 0.09049611]],\n",
       "\n",
       "       [[0.71395316, 0.04259896],\n",
       "        [0.26668336, 0.92833989],\n",
       "        [0.7689645 , 0.28382683]]])"
      ]
     },
     "execution_count": 42,
     "metadata": {},
     "output_type": "execute_result"
    }
   ],
   "source": [
    "a2"
   ]
  },
  {
   "cell_type": "markdown",
   "id": "1e255124-b9ea-42eb-b0a0-836b7341b3c6",
   "metadata": {},
   "source": [
    "#### Basic Math Operations"
   ]
  },
  {
   "cell_type": "code",
   "execution_count": 43,
   "id": "3eb79e70-c460-4cca-a47f-0f49b5571e1f",
   "metadata": {},
   "outputs": [
    {
     "data": {
      "text/plain": [
       "array([[[1.14062012, 1.2010719 ],\n",
       "        [0.91509428, 1.54745234],\n",
       "        [0.18568692, 0.42149445]],\n",
       "\n",
       "       [[1.1206676 , 0.22777933],\n",
       "        [1.24314616, 1.24309033],\n",
       "        [0.82262607, 0.51120134]]])"
      ]
     },
     "execution_count": 43,
     "metadata": {},
     "output_type": "execute_result"
    }
   ],
   "source": [
    "np.add(a1, a2)"
   ]
  },
  {
   "cell_type": "code",
   "execution_count": 44,
   "id": "865b3ce9-be8d-4b13-8e5d-2a5b376ae2fc",
   "metadata": {},
   "outputs": [
    {
     "data": {
      "text/plain": [
       "array([[[ 0.3972028 , -0.76838718],\n",
       "        [ 0.54781639, -0.21193124],\n",
       "        [-0.03391257,  0.24050223]],\n",
       "\n",
       "       [[-0.30723871,  0.14258142],\n",
       "        [ 0.70977943, -0.61358945],\n",
       "        [-0.71530293, -0.05645232]]])"
      ]
     },
     "execution_count": 44,
     "metadata": {},
     "output_type": "execute_result"
    }
   ],
   "source": [
    "np.subtract(a1, a2)"
   ]
  },
  {
   "cell_type": "code",
   "execution_count": 45,
   "id": "870932ad-e609-44a1-9c0b-d2b3d01f527f",
   "metadata": {},
   "outputs": [
    {
     "data": {
      "text/plain": [
       "array([[[2.06858632, 0.21969724],\n",
       "        [3.98311671, 0.75908467],\n",
       "        [0.69114161, 3.65759758]],\n",
       "\n",
       "       [[0.56966545, 4.34706352],\n",
       "        [3.66150621, 0.33904656],\n",
       "        [0.0697842 , 0.80110295]]])"
      ]
     },
     "execution_count": 45,
     "metadata": {},
     "output_type": "execute_result"
    }
   ],
   "source": [
    "np.divide(a1, a2)"
   ]
  },
  {
   "cell_type": "code",
   "execution_count": 47,
   "id": "5fc62ceb-6e80-47c8-85c9-e8c9df359a38",
   "metadata": {},
   "outputs": [
    {
     "data": {
      "text/plain": [
       "array([[[0.28581105, 0.21303871],\n",
       "        [0.13432368, 0.58742347],\n",
       "        [0.00833239, 0.02995406]],\n",
       "\n",
       "       [[0.29037506, 0.00788849],\n",
       "        [0.26040638, 0.29219539],\n",
       "        [0.04126384, 0.06453499]]])"
      ]
     },
     "execution_count": 47,
     "metadata": {},
     "output_type": "execute_result"
    }
   ],
   "source": [
    "np.multiply(a1, a2)"
   ]
  },
  {
   "cell_type": "raw",
   "id": "05c301b5-84a2-4b44-8d12-e0113ba42360",
   "metadata": {},
   "source": [
    "sqrt_1 = np.sqrt(25)\n",
    "abs_1 = np.abs(-2)\n",
    "power_1 = np.power(2,8)\n",
    "log_1 = np.log(25)\n",
    "mins_1 = np.min(a1)\n",
    "maxs_1 = np.max(a2)"
   ]
  },
  {
   "cell_type": "code",
   "execution_count": 57,
   "id": "f610d9db-2836-4123-b603-0d9c9eba0cd0",
   "metadata": {},
   "outputs": [
    {
     "data": {
      "text/plain": [
       "np.float64(5.0)"
      ]
     },
     "execution_count": 57,
     "metadata": {},
     "output_type": "execute_result"
    }
   ],
   "source": [
    "np.sqrt(25)"
   ]
  },
  {
   "cell_type": "code",
   "execution_count": 58,
   "id": "e7907d0a-a095-4792-a3fd-80327c3deb13",
   "metadata": {},
   "outputs": [
    {
     "data": {
      "text/plain": [
       "np.int64(2)"
      ]
     },
     "execution_count": 58,
     "metadata": {},
     "output_type": "execute_result"
    }
   ],
   "source": [
    "np.abs(-2)"
   ]
  },
  {
   "cell_type": "code",
   "execution_count": 59,
   "id": "69b542ea-f6de-4a18-88ef-4cb9638a43b4",
   "metadata": {},
   "outputs": [
    {
     "data": {
      "text/plain": [
       "np.int64(256)"
      ]
     },
     "execution_count": 59,
     "metadata": {},
     "output_type": "execute_result"
    }
   ],
   "source": [
    "np.power(2,8)"
   ]
  },
  {
   "cell_type": "code",
   "execution_count": 60,
   "id": "306b580f-1bb6-4dfc-80fa-9df5290652d3",
   "metadata": {},
   "outputs": [
    {
     "data": {
      "text/plain": [
       "np.float64(3.2188758248682006)"
      ]
     },
     "execution_count": 60,
     "metadata": {},
     "output_type": "execute_result"
    }
   ],
   "source": [
    "np.log(25)"
   ]
  },
  {
   "cell_type": "code",
   "execution_count": 61,
   "id": "b09d3fbb-87f7-453f-b22d-f2978c4fd6b5",
   "metadata": {},
   "outputs": [
    {
     "data": {
      "text/plain": [
       "np.float64(0.053661571403540775)"
      ]
     },
     "execution_count": 61,
     "metadata": {},
     "output_type": "execute_result"
    }
   ],
   "source": [
    "np.min(a1)"
   ]
  },
  {
   "cell_type": "code",
   "execution_count": 62,
   "id": "d7bfd50d-9c9d-4adb-bead-04e6cb7d31fd",
   "metadata": {},
   "outputs": [
    {
     "data": {
      "text/plain": [
       "np.float64(0.9847295377682324)"
      ]
     },
     "execution_count": 62,
     "metadata": {},
     "output_type": "execute_result"
    }
   ],
   "source": [
    "np.max(a2)"
   ]
  },
  {
   "cell_type": "markdown",
   "id": "1f97a3d9-acf4-4d8a-8ba5-bd4c6d753fc7",
   "metadata": {},
   "source": [
    "#### Update"
   ]
  },
  {
   "cell_type": "code",
   "execution_count": 63,
   "id": "379d231e-8b6b-41c4-8b93-3db2560b33dc",
   "metadata": {},
   "outputs": [
    {
     "data": {
      "text/plain": [
       "array([[[1, 4, 5],\n",
       "        [6, 7, 4]],\n",
       "\n",
       "       [[3, 5, 4],\n",
       "        [5, 8, 7]],\n",
       "\n",
       "       [[3, 5, 4],\n",
       "        [5, 8, 7]]])"
      ]
     },
     "execution_count": 63,
     "metadata": {},
     "output_type": "execute_result"
    }
   ],
   "source": [
    "arr3"
   ]
  },
  {
   "cell_type": "code",
   "execution_count": 64,
   "id": "74196d9b-302c-41d1-adda-cf5ebcb52ccc",
   "metadata": {},
   "outputs": [],
   "source": [
    "arr3[0,0,2] = 500"
   ]
  },
  {
   "cell_type": "code",
   "execution_count": 65,
   "id": "89f8c2cd-8a47-4f48-b9c1-7035c9c9c3c3",
   "metadata": {},
   "outputs": [
    {
     "data": {
      "text/plain": [
       "array([[[  1,   4, 500],\n",
       "        [  6,   7,   4]],\n",
       "\n",
       "       [[  3,   5,   4],\n",
       "        [  5,   8,   7]],\n",
       "\n",
       "       [[  3,   5,   4],\n",
       "        [  5,   8,   7]]])"
      ]
     },
     "execution_count": 65,
     "metadata": {},
     "output_type": "execute_result"
    }
   ],
   "source": [
    "arr3"
   ]
  },
  {
   "cell_type": "code",
   "execution_count": 66,
   "id": "e2a4511e-e4df-4f81-a569-516b7d4a81e9",
   "metadata": {},
   "outputs": [
    {
     "data": {
      "text/plain": [
       "array([[[  1,   4, 500],\n",
       "        [  4,   6,   7]],\n",
       "\n",
       "       [[  3,   4,   5],\n",
       "        [  5,   7,   8]],\n",
       "\n",
       "       [[  3,   4,   5],\n",
       "        [  5,   7,   8]]])"
      ]
     },
     "execution_count": 66,
     "metadata": {},
     "output_type": "execute_result"
    }
   ],
   "source": [
    "arr3.sort()\n",
    "arr3"
   ]
  },
  {
   "cell_type": "code",
   "execution_count": 67,
   "id": "e0368877-8de6-4ab8-9f52-0c19bdbf6ecb",
   "metadata": {},
   "outputs": [
    {
     "data": {
      "text/plain": [
       "(3, 2, 3)"
      ]
     },
     "execution_count": 67,
     "metadata": {},
     "output_type": "execute_result"
    }
   ],
   "source": [
    "# Reshape\n",
    "arr3.shape"
   ]
  },
  {
   "cell_type": "code",
   "execution_count": 68,
   "id": "e6f83afc-4d3b-445f-a461-325806aa72df",
   "metadata": {},
   "outputs": [
    {
     "data": {
      "text/plain": [
       "array([[[  1,   4, 500],\n",
       "        [  4,   6,   7],\n",
       "        [  3,   4,   5]],\n",
       "\n",
       "       [[  5,   7,   8],\n",
       "        [  3,   4,   5],\n",
       "        [  5,   7,   8]]])"
      ]
     },
     "execution_count": 68,
     "metadata": {},
     "output_type": "execute_result"
    }
   ],
   "source": [
    "arr3_reshape = arr3.reshape([2,3,3])\n",
    "arr3_reshape"
   ]
  },
  {
   "cell_type": "code",
   "execution_count": 69,
   "id": "50dd2659-9447-4813-89ae-f9793489cd5c",
   "metadata": {},
   "outputs": [
    {
     "data": {
      "text/plain": [
       "(2, 3, 3)"
      ]
     },
     "execution_count": 69,
     "metadata": {},
     "output_type": "execute_result"
    }
   ],
   "source": [
    "arr3_reshape.shape"
   ]
  },
  {
   "cell_type": "code",
   "execution_count": 70,
   "id": "4515a968-a026-4a9b-ab56-ee5bbec896d6",
   "metadata": {},
   "outputs": [
    {
     "data": {
      "text/plain": [
       "array([[[  1,   4, 500],\n",
       "        [  4,   6,   7],\n",
       "        [  3,   4,   5]],\n",
       "\n",
       "       [[  5,   7,   8],\n",
       "        [  3,   4,   5],\n",
       "        [  5,   7,   8]]])"
      ]
     },
     "execution_count": 70,
     "metadata": {},
     "output_type": "execute_result"
    }
   ],
   "source": [
    "arr3_reshape = arr3.reshape([2,3,-1])\n",
    "arr3_reshape"
   ]
  },
  {
   "cell_type": "markdown",
   "id": "5d4fe4e1-d4c1-4dde-8adb-d886fd007b35",
   "metadata": {},
   "source": [
    "#### Appending & Inserting"
   ]
  },
  {
   "cell_type": "code",
   "execution_count": 71,
   "id": "1f9b80ad-1d53-45f9-b2ca-27064937e028",
   "metadata": {},
   "outputs": [
    {
     "data": {
      "text/plain": [
       "array([[[0., 0., 0.],\n",
       "        [0., 0., 0.]],\n",
       "\n",
       "       [[0., 0., 0.],\n",
       "        [0., 0., 0.]],\n",
       "\n",
       "       [[0., 0., 0.],\n",
       "        [0., 0., 0.]]])"
      ]
     },
     "execution_count": 71,
     "metadata": {},
     "output_type": "execute_result"
    }
   ],
   "source": [
    "zeroes"
   ]
  },
  {
   "cell_type": "code",
   "execution_count": 73,
   "id": "021a11fb-8306-4a52-9f86-9ac0d8f0c790",
   "metadata": {},
   "outputs": [
    {
     "data": {
      "text/plain": [
       "array([[[1., 1., 1.],\n",
       "        [1., 1., 1.]],\n",
       "\n",
       "       [[1., 1., 1.],\n",
       "        [1., 1., 1.]],\n",
       "\n",
       "       [[1., 1., 1.],\n",
       "        [1., 1., 1.]]])"
      ]
     },
     "execution_count": 73,
     "metadata": {},
     "output_type": "execute_result"
    }
   ],
   "source": [
    "# create a new array\n",
    "new_array = np.ones((3,2,3))\n",
    "new_array"
   ]
  },
  {
   "cell_type": "code",
   "execution_count": 74,
   "id": "b10a98a0-5936-4d09-b2bc-92cf838479a0",
   "metadata": {},
   "outputs": [
    {
     "data": {
      "text/plain": [
       "array([[[0., 0., 0.],\n",
       "        [0., 0., 0.]],\n",
       "\n",
       "       [[0., 0., 0.],\n",
       "        [0., 0., 0.]],\n",
       "\n",
       "       [[0., 0., 0.],\n",
       "        [0., 0., 0.]],\n",
       "\n",
       "       [[1., 1., 1.],\n",
       "        [1., 1., 1.]],\n",
       "\n",
       "       [[1., 1., 1.],\n",
       "        [1., 1., 1.]],\n",
       "\n",
       "       [[1., 1., 1.],\n",
       "        [1., 1., 1.]]])"
      ]
     },
     "execution_count": 74,
     "metadata": {},
     "output_type": "execute_result"
    }
   ],
   "source": [
    "appd = np.append(zeroes, new_array, axis=0)\n",
    "appd"
   ]
  },
  {
   "cell_type": "markdown",
   "id": "0a7577ed-5fd4-4191-9012-ad3bd9d38677",
   "metadata": {},
   "source": [
    "# Insert "
   ]
  },
  {
   "cell_type": "code",
   "execution_count": 75,
   "id": "42598961-de8a-4376-ac80-063b4384db8e",
   "metadata": {},
   "outputs": [
    {
     "data": {
      "text/plain": [
       "array([[[0., 0., 0.],\n",
       "        [0., 0., 0.]],\n",
       "\n",
       "       [[0., 0., 0.],\n",
       "        [0., 0., 0.]],\n",
       "\n",
       "       [[0., 0., 0.],\n",
       "        [0., 0., 0.]]])"
      ]
     },
     "execution_count": 75,
     "metadata": {},
     "output_type": "execute_result"
    }
   ],
   "source": [
    "zeroes"
   ]
  },
  {
   "cell_type": "code",
   "execution_count": 76,
   "id": "aad0ad38-fe88-4d34-bc3f-981e372fc777",
   "metadata": {},
   "outputs": [
    {
     "data": {
      "text/plain": [
       "array([[[1., 1., 1.],\n",
       "        [1., 1., 1.]],\n",
       "\n",
       "       [[1., 1., 1.],\n",
       "        [1., 1., 1.]],\n",
       "\n",
       "       [[1., 1., 1.],\n",
       "        [1., 1., 1.]]])"
      ]
     },
     "execution_count": 76,
     "metadata": {},
     "output_type": "execute_result"
    }
   ],
   "source": [
    "new_array"
   ]
  },
  {
   "cell_type": "code",
   "execution_count": 77,
   "id": "bacb798d-383b-4fef-a2e3-ab0c25745b8f",
   "metadata": {},
   "outputs": [],
   "source": [
    "inserted_array = np.insert(zeroes, 1, new_array, axis=0)"
   ]
  },
  {
   "cell_type": "code",
   "execution_count": 78,
   "id": "dac71873-6c2d-4b88-826e-e24b74a8e014",
   "metadata": {},
   "outputs": [
    {
     "data": {
      "text/plain": [
       "array([[[0., 0., 0.],\n",
       "        [0., 0., 0.]],\n",
       "\n",
       "       [[1., 1., 1.],\n",
       "        [1., 1., 1.]],\n",
       "\n",
       "       [[1., 1., 1.],\n",
       "        [1., 1., 1.]],\n",
       "\n",
       "       [[1., 1., 1.],\n",
       "        [1., 1., 1.]],\n",
       "\n",
       "       [[0., 0., 0.],\n",
       "        [0., 0., 0.]],\n",
       "\n",
       "       [[0., 0., 0.],\n",
       "        [0., 0., 0.]]])"
      ]
     },
     "execution_count": 78,
     "metadata": {},
     "output_type": "execute_result"
    }
   ],
   "source": [
    "inserted_array"
   ]
  },
  {
   "cell_type": "markdown",
   "id": "fc495ea9-e33f-42cb-8810-7ce73defaeff",
   "metadata": {},
   "source": [
    "## Delete"
   ]
  },
  {
   "cell_type": "code",
   "execution_count": 79,
   "id": "109e6baa-24b2-4490-b7e1-5099996f4de1",
   "metadata": {},
   "outputs": [
    {
     "data": {
      "text/plain": [
       "array([[[1.20361367e-01, 5.26119355e-01, 1.99996215e-04],\n",
       "        [7.54723245e-01, 2.23908337e-01, 8.68165341e-01]],\n",
       "\n",
       "       [[9.91154732e-01, 9.71131099e-02, 6.57001123e-02],\n",
       "        [9.73087599e-01, 4.43685614e-01, 4.59339077e-01]],\n",
       "\n",
       "       [[7.61629421e-01, 8.00635886e-01, 4.47171173e-01],\n",
       "        [1.46097191e-01, 8.51099820e-01, 6.94569262e-01]]])"
      ]
     },
     "execution_count": 79,
     "metadata": {},
     "output_type": "execute_result"
    }
   ],
   "source": [
    "arr4 = np.random.rand(3,2,3)\n",
    "arr4"
   ]
  },
  {
   "cell_type": "code",
   "execution_count": 81,
   "id": "c68c64d7-c543-49c5-9756-881908f4bae4",
   "metadata": {},
   "outputs": [
    {
     "data": {
      "text/plain": [
       "array([[[0.75472325, 0.22390834, 0.86816534]],\n",
       "\n",
       "       [[0.9730876 , 0.44368561, 0.45933908]],\n",
       "\n",
       "       [[0.14609719, 0.85109982, 0.69456926]]])"
      ]
     },
     "execution_count": 81,
     "metadata": {},
     "output_type": "execute_result"
    }
   ],
   "source": [
    "# delete the array\n",
    "arr5 = np.delete(arr4, 0, axis=1)\n",
    "arr5"
   ]
  },
  {
   "cell_type": "code",
   "execution_count": 82,
   "id": "403c1e6c-8035-4294-9f36-b7682aabf34e",
   "metadata": {},
   "outputs": [],
   "source": [
    "np.save('new_array', arr5)"
   ]
  },
  {
   "cell_type": "code",
   "execution_count": 84,
   "id": "d0661adf-1e20-42f0-8e53-279d7fd12ba9",
   "metadata": {},
   "outputs": [
    {
     "data": {
      "text/plain": [
       "array([[[0.75472325, 0.22390834, 0.86816534]],\n",
       "\n",
       "       [[0.9730876 , 0.44368561, 0.45933908]],\n",
       "\n",
       "       [[0.14609719, 0.85109982, 0.69456926]]])"
      ]
     },
     "execution_count": 84,
     "metadata": {},
     "output_type": "execute_result"
    }
   ],
   "source": [
    "np.load('new_array.npy')"
   ]
  },
  {
   "cell_type": "code",
   "execution_count": null,
   "id": "e2013654-dea5-4588-9525-32bf5b878c85",
   "metadata": {},
   "outputs": [],
   "source": []
  }
 ],
 "metadata": {
  "kernelspec": {
   "display_name": "Python 3 (ipykernel)",
   "language": "python",
   "name": "python3"
  },
  "language_info": {
   "codemirror_mode": {
    "name": "ipython",
    "version": 3
   },
   "file_extension": ".py",
   "mimetype": "text/x-python",
   "name": "python",
   "nbconvert_exporter": "python",
   "pygments_lexer": "ipython3",
   "version": "3.13.5"
  }
 },
 "nbformat": 4,
 "nbformat_minor": 5
}
